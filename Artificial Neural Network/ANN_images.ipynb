{
  "nbformat": 4,
  "nbformat_minor": 0,
  "metadata": {
    "colab": {
      "name": "Untitled3.ipynb",
      "provenance": [],
      "collapsed_sections": []
    },
    "kernelspec": {
      "name": "python3",
      "display_name": "Python 3"
    },
    "language_info": {
      "name": "python"
    }
  },
  "cells": [
    {
      "cell_type": "code",
      "execution_count": 23,
      "metadata": {
        "colab": {
          "base_uri": "https://localhost:8080/"
        },
        "id": "N3-m-90_Eb5m",
        "outputId": "41f48a20-29ce-4fe7-8691-c4271800a2e2"
      },
      "outputs": [
        {
          "output_type": "execute_result",
          "data": {
            "text/plain": [
              "9"
            ]
          },
          "metadata": {},
          "execution_count": 23
        }
      ],
      "source": [
        "import tensorflow as tf #Imports\n",
        "\n",
        "image_data = tf.keras.datasets.fashion_mnist #Import du dataset\n",
        "\n",
        "(train_images, train_labels), (test_images, test_labels) = image_data.load_data() #Création des dataset d'entraînement et de test\n",
        "\n",
        "#Convertir toutes les valeurs du dataset en valeurs entre 0 et 1\n",
        "train_images = train_images / 255.0\n",
        "test_images = test_images / 255.0\n",
        "test_labels[0] #Le label du 1er élément du dataset de test est le 9ème"
      ]
    },
    {
      "cell_type": "code",
      "source": [
        "#Configuration du réseau de neurones\n",
        "#-définir la dimension des données\n",
        "#-définir la densité de neurones (configuration recommandée dans la doc du dataset)\n",
        "#-définir le nombre de neurones de sortie\n",
        "model = tf.keras.Sequential([\n",
        "                             tf.keras.layers.Flatten(input_shape = (28,28)),\n",
        "                             tf.keras.layers.Dense(128, activation = \"relu\"),\n",
        "                             tf.keras.layers.Dense(10)\n",
        "])\n",
        "\n",
        "#Configurer l'optimizer (configuration recommandée dans la doc du dataset)\n",
        "model.compile(optimizer = \"adam\",\n",
        "              loss = tf.keras.losses.SparseCategoricalCrossentropy(from_logits= True),\n",
        "              metrics = [\"accuracy\"]\n",
        "              )\n",
        "\n",
        "#Entraîner le réseau 10 fois\n",
        "model.fit(train_images, train_labels, epochs = 10)"
      ],
      "metadata": {
        "colab": {
          "base_uri": "https://localhost:8080/"
        },
        "id": "KhpCh-jzI1Kb",
        "outputId": "7ae23485-3568-435b-dbeb-28412ab5a240"
      },
      "execution_count": 20,
      "outputs": [
        {
          "output_type": "stream",
          "name": "stdout",
          "text": [
            "Epoch 1/10\n",
            "1875/1875 [==============================] - 5s 2ms/step - loss: 3.6031 - accuracy: 0.6885\n",
            "Epoch 2/10\n",
            "1875/1875 [==============================] - 4s 2ms/step - loss: 0.7003 - accuracy: 0.7617\n",
            "Epoch 3/10\n",
            "1875/1875 [==============================] - 4s 2ms/step - loss: 0.5777 - accuracy: 0.8005\n",
            "Epoch 4/10\n",
            "1875/1875 [==============================] - 4s 2ms/step - loss: 0.5115 - accuracy: 0.8253\n",
            "Epoch 5/10\n",
            "1875/1875 [==============================] - 4s 2ms/step - loss: 0.5031 - accuracy: 0.8321\n",
            "Epoch 6/10\n",
            "1875/1875 [==============================] - 4s 2ms/step - loss: 0.4805 - accuracy: 0.8413\n",
            "Epoch 7/10\n",
            "1875/1875 [==============================] - 5s 3ms/step - loss: 0.4841 - accuracy: 0.8416\n",
            "Epoch 8/10\n",
            "1875/1875 [==============================] - 5s 3ms/step - loss: 0.4582 - accuracy: 0.8460\n",
            "Epoch 9/10\n",
            "1875/1875 [==============================] - 5s 3ms/step - loss: 0.4676 - accuracy: 0.8443\n",
            "Epoch 10/10\n",
            "1875/1875 [==============================] - 5s 3ms/step - loss: 0.4610 - accuracy: 0.8442\n"
          ]
        },
        {
          "output_type": "execute_result",
          "data": {
            "text/plain": [
              "<keras.callbacks.History at 0x7f183c338d90>"
            ]
          },
          "metadata": {},
          "execution_count": 20
        }
      ]
    },
    {
      "cell_type": "code",
      "source": [
        "#Afficher les prédictions du réseau de neurone pour le 1er élément du dataset de test\n",
        "model.predict(test_images)[0] #La valeur la plus grande du résultat étant la 9ème, le réseau a trouvé le bon label pour cette image"
      ],
      "metadata": {
        "colab": {
          "base_uri": "https://localhost:8080/"
        },
        "id": "XUgXOTYgKepA",
        "outputId": "49f3b858-9b84-432f-a91e-f4852f4806b0"
      },
      "execution_count": 21,
      "outputs": [
        {
          "output_type": "execute_result",
          "data": {
            "text/plain": [
              "array([-13.683521 ,  -0.0945816, -61.414978 ,   4.8610463, -45.73161  ,\n",
              "        25.173498 , -18.320238 ,  25.527994 ,   3.6713727,  28.314684 ],\n",
              "      dtype=float32)"
            ]
          },
          "metadata": {},
          "execution_count": 21
        }
      ]
    }
  ]
}