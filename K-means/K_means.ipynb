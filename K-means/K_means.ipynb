{
  "nbformat": 4,
  "nbformat_minor": 0,
  "metadata": {
    "colab": {
      "name": "K-means.ipynb",
      "provenance": [],
      "collapsed_sections": []
    },
    "kernelspec": {
      "name": "python3",
      "display_name": "Python 3"
    },
    "language_info": {
      "name": "python"
    }
  },
  "cells": [
    {
      "cell_type": "code",
      "execution_count": 83,
      "metadata": {
        "id": "hVBEoQW3oJA_"
      },
      "outputs": [],
      "source": [
        "import numpy as np\n",
        "import matplotlib.pyplot as plt\n",
        "from scipy.spatial.distance import cdist"
      ]
    },
    {
      "cell_type": "code",
      "source": [
        "n = 20 #Quantité de données\n",
        "p = 2 #Dimension des données\n",
        "k = 3 #Nombre de cluster\n",
        "X = np.random.random((n , p)) #Génération d'un jeu de données aléatoire"
      ],
      "metadata": {
        "id": "68TecQePC_4q"
      },
      "execution_count": 102,
      "outputs": []
    },
    {
      "cell_type": "code",
      "source": [
        "plt.scatter(X[: , 0], X[: , 1]) #Visualisation des données"
      ],
      "metadata": {
        "colab": {
          "base_uri": "https://localhost:8080/",
          "height": 282
        },
        "id": "U-A0_M0MDlRv",
        "outputId": "f458b6f8-bcc3-4ec4-e90c-e068bffde2ef"
      },
      "execution_count": 103,
      "outputs": [
        {
          "output_type": "execute_result",
          "data": {
            "text/plain": [
              "<matplotlib.collections.PathCollection at 0x7f866c4cf490>"
            ]
          },
          "metadata": {},
          "execution_count": 103
        },
        {
          "output_type": "display_data",
          "data": {
            "image/png": "[encoded data removed]",
            "text/plain": [
              "<Figure size 432x288 with 1 Axes>"
            ]
          },
          "metadata": {
            "needs_background": "light"
          }
        }
      ]
    },
    {
      "cell_type": "code",
      "source": [
        "centers = X[np.random.choice(n, k, replace = False)] #Choix de trois points aléatoires de référence"
      ],
      "metadata": {
        "id": "vzuF4XPAl8U3"
      },
      "execution_count": 104,
      "outputs": []
    },
    {
      "cell_type": "code",
      "source": [
        "((X.reshape(n, 1, p) - centers.reshape(1, k, p))**2).sum(axis = 2)**0.5 #Calcule de la distance entre chaque données et les points de référence"
      ],
      "metadata": {
        "colab": {
          "base_uri": "https://localhost:8080/"
        },
        "id": "cQtq_quln-hd",
        "outputId": "d828596c-0bb9-42f3-b1ef-91ee19d52832"
      },
      "execution_count": 107,
      "outputs": [
        {
          "output_type": "execute_result",
          "data": {
            "text/plain": [
              "array([[0.        , 0.76832658, 0.53597053],\n",
              "       [0.57749037, 0.26536351, 0.24130033],\n",
              "       [0.53597053, 0.25217824, 0.        ],\n",
              "       [0.91802819, 0.63395299, 0.72203424],\n",
              "       [0.73052683, 0.69682373, 0.69198956],\n",
              "       [0.25523039, 0.68013646, 0.50566707],\n",
              "       [0.71434986, 0.74761023, 0.72491515],\n",
              "       [0.48750617, 0.37038236, 0.28184483],\n",
              "       [0.42929185, 0.95696577, 0.79833071],\n",
              "       [0.77982324, 0.73410112, 0.73955512],\n",
              "       [0.76832658, 0.        , 0.25217824],\n",
              "       [0.57916704, 1.0139186 , 0.88719749],\n",
              "       [0.2816306 , 0.81857597, 0.56648318],\n",
              "       [0.4740243 , 0.49499001, 0.40883435],\n",
              "       [0.38917719, 0.52499924, 0.39638764],\n",
              "       [0.54447916, 0.85756169, 0.75283958],\n",
              "       [0.3248723 , 0.82153162, 0.65676613],\n",
              "       [0.27937185, 0.61654855, 0.44763739],\n",
              "       [0.89050139, 0.51798165, 0.62910741],\n",
              "       [0.70140215, 0.09497999, 0.22308563]])"
            ]
          },
          "metadata": {},
          "execution_count": 107
        }
      ]
    },
    {
      "cell_type": "code",
      "source": [
        "#Autre méthode de calcule de la distance\n",
        "distances = np.zeros((n, k))\n",
        "for i in range(k):\n",
        "  distances[:,i] = (((X - centers[i])**2).sum(axis = 1))**0.5\n",
        "distances"
      ],
      "metadata": {
        "colab": {
          "base_uri": "https://localhost:8080/"
        },
        "id": "4JdqNFtV4616",
        "outputId": "35f7f14a-6cd8-4881-a39b-e1fe8d94f287"
      },
      "execution_count": 108,
      "outputs": [
        {
          "output_type": "execute_result",
          "data": {
            "text/plain": [
              "array([[0.        , 0.76832658, 0.53597053],\n",
              "       [0.57749037, 0.26536351, 0.24130033],\n",
              "       [0.53597053, 0.25217824, 0.        ],\n",
              "       [0.91802819, 0.63395299, 0.72203424],\n",
              "       [0.73052683, 0.69682373, 0.69198956],\n",
              "       [0.25523039, 0.68013646, 0.50566707],\n",
              "       [0.71434986, 0.74761023, 0.72491515],\n",
              "       [0.48750617, 0.37038236, 0.28184483],\n",
              "       [0.42929185, 0.95696577, 0.79833071],\n",
              "       [0.77982324, 0.73410112, 0.73955512],\n",
              "       [0.76832658, 0.        , 0.25217824],\n",
              "       [0.57916704, 1.0139186 , 0.88719749],\n",
              "       [0.2816306 , 0.81857597, 0.56648318],\n",
              "       [0.4740243 , 0.49499001, 0.40883435],\n",
              "       [0.38917719, 0.52499924, 0.39638764],\n",
              "       [0.54447916, 0.85756169, 0.75283958],\n",
              "       [0.3248723 , 0.82153162, 0.65676613],\n",
              "       [0.27937185, 0.61654855, 0.44763739],\n",
              "       [0.89050139, 0.51798165, 0.62910741],\n",
              "       [0.70140215, 0.09497999, 0.22308563]])"
            ]
          },
          "metadata": {},
          "execution_count": 108
        }
      ]
    },
    {
      "cell_type": "code",
      "source": [
        "distances = cdist(X, centers) #Récupération de la distance entre les coordonnées des donnérd et celles des points de référence avec la méthode cdist\n",
        "plus_proche = np.argmin(distances, axis = 1) #Lister les points de référence les plus proches pour chaque donnée"
      ],
      "metadata": {
        "id": "v23zJ8iDD99V"
      },
      "execution_count": 154,
      "outputs": []
    },
    {
      "cell_type": "code",
      "source": [
        "X[plus_proche == 0].mean(axis = 0) #Faire la moyenne des coordonnées des points les plus proches du 1er cluster"
      ],
      "metadata": {
        "colab": {
          "base_uri": "https://localhost:8080/"
        },
        "id": "dm3kEBVEEVox",
        "outputId": "03a8463a-df10-4ff1-8cd3-4f704bb848bc"
      },
      "execution_count": 155,
      "outputs": [
        {
          "output_type": "execute_result",
          "data": {
            "text/plain": [
              "array([0.92585373, 0.84343259])"
            ]
          },
          "metadata": {},
          "execution_count": 155
        }
      ]
    },
    {
      "cell_type": "code",
      "source": [
        "#Faire la moyenne des coordonnées pour les 3 clusters\n",
        "for i in range(k):\n",
        "  centers[i, :] = X[plus_proche == i].mean(axis = 0)"
      ],
      "metadata": {
        "id": "kdnnPjuwXSJb"
      },
      "execution_count": 116,
      "outputs": []
    },
    {
      "cell_type": "code",
      "source": [
        "centers = X[np.random.choice(n, k, replace = False)] #Choix de trois points aléatoires de référence\n",
        "plus_proche = np.zeros(n).astype(int) #Créer une liste de 0 de la taille de notre jeu de données\n",
        "\n",
        "while True: \n",
        "  ancienne_plus_proche = plus_proche.copy() #Stocker la valeur de notre précédente liste pour la comparer avec la nouvelle qui sera générée en sortie\n",
        "  print(plus_proche)\n",
        "  distances = cdist(X, centers) #Récupération de la distance entre les coordonnées des donnérd et celles des points de référence avec la méthode cdist\n",
        "  plus_proche = np.argmin(distances, axis = 1) #Lister les points de référence les plus proches pour chaque donnée\n",
        "\n",
        "  for i in range(k): #Pour chaque point de référence\n",
        "    centers[i, :] = X[plus_proche == i].mean(axis = 0) #Changer ses coordonnées à celles de la moyenne des coordonnées des données les plus proches\n",
        "  \n",
        "  if all(plus_proche == ancienne_plus_proche): #Si les coordonnées de la nouvelle liste est identique à celle de la précédente itération, quitter la boucle\n",
        "    break"
      ],
      "metadata": {
        "colab": {
          "base_uri": "https://localhost:8080/"
        },
        "id": "x7su0_CJX3Nv",
        "outputId": "d75df336-cf07-4d6f-d622-9496245a0b37"
      },
      "execution_count": 145,
      "outputs": [
        {
          "output_type": "stream",
          "name": "stdout",
          "text": [
            "[0 0 0 0 0 0 0 0 0 0 0 0 0 0 0 0 0 0 0 0]\n",
            "[2 1 1 0 0 2 0 1 2 0 1 0 2 1 2 0 2 2 0 1]\n",
            "[2 1 1 0 0 2 0 1 2 0 1 2 2 1 2 0 2 2 0 1]\n",
            "[2 1 1 0 0 2 0 1 2 0 1 2 2 1 2 2 2 2 0 1]\n"
          ]
        }
      ]
    },
    {
      "cell_type": "code",
      "source": [
        "plt.scatter(X[:, 0], X[:, 1], c = plus_proche) #Visualiser les résultats"
      ],
      "metadata": {
        "colab": {
          "base_uri": "https://localhost:8080/",
          "height": 282
        },
        "id": "3lsNrWCwbuPL",
        "outputId": "e82e0204-2644-45c4-c1ba-c21d31d59a42"
      },
      "execution_count": 146,
      "outputs": [
        {
          "output_type": "execute_result",
          "data": {
            "text/plain": [
              "<matplotlib.collections.PathCollection at 0x7f866bf7a850>"
            ]
          },
          "metadata": {},
          "execution_count": 146
        },
        {
          "output_type": "display_data",
          "data": {
            "image/png": "[encoded data removed]",
            "text/plain": [
              "<Figure size 432x288 with 1 Axes>"
            ]
          },
          "metadata": {
            "needs_background": "light"
          }
        }
      ]
    },
    {
      "cell_type": "code",
      "source": [
        "#Application du clustering K-means sous forme de fonction\n",
        "def Kmeans(X, k):\n",
        "  n = X.shape[0]\n",
        "  centers = X[np.random.choice(n, k, replace = False)]\n",
        "  plus_proche = np.zeros(n).astype(int)\n",
        "\n",
        "  while True:\n",
        "    ancienne_plus_proche = plus_proche.copy()\n",
        "    distances = cdist(X, centers)\n",
        "    plus_proche = np.argmin(distances, axis = 1)\n",
        "\n",
        "    for i in range(k):\n",
        "      centers[i, :] = X[plus_proche == i].mean(axis = 0)\n",
        "    \n",
        "    if all(plus_proche == ancienne_plus_proche):\n",
        "      break\n",
        "\n",
        "  plt.scatter(X[:, 0], X[:, 1], c = plus_proche)\n",
        "  return(plus_proche, centers)"
      ],
      "metadata": {
        "id": "xHvlXGC7co2I"
      },
      "execution_count": 156,
      "outputs": []
    },
    {
      "cell_type": "code",
      "source": [
        "#Test de la fonction\n",
        "labels, centers = Kmeans(X, 4)\n",
        "print(labels)\n",
        "print(centers)"
      ],
      "metadata": {
        "colab": {
          "base_uri": "https://localhost:8080/",
          "height": 352
        },
        "id": "heHHd2IwdD7I",
        "outputId": "c12b3aba-fa63-49e0-e7de-c0c95917bd7a"
      },
      "execution_count": 157,
      "outputs": [
        {
          "output_type": "stream",
          "name": "stdout",
          "text": [
            "[2 1 1 3 3 0 3 1 0 3 1 0 2 1 1 0 0 0 3 1]\n",
            "[[0.71033571 0.36647412]\n",
            " [0.34241322 0.76832026]\n",
            " [0.92585373 0.84343259]\n",
            " [0.18902374 0.31438369]]\n"
          ]
        },
        {
          "output_type": "display_data",
          "data": {
            "image/png": "[encoded data removed]",
            "text/plain": [
              "<Figure size 432x288 with 1 Axes>"
            ]
          },
          "metadata": {
            "needs_background": "light"
          }
        }
      ]
    }
  ]
}